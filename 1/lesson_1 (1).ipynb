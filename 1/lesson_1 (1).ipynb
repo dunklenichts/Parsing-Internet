{
 "cells": [
  {
   "cell_type": "markdown",
   "id": "4fa6ede7",
   "metadata": {},
   "source": [
    "## Урок 1. Основы клиент-серверного взаимодействия.                   Работа с API"
   ]
  },
  {
   "cell_type": "markdown",
   "id": "73a953cf",
   "metadata": {},
   "source": [
    "1. Посмотреть документацию к API GitHub, разобраться как вывести список репозиториев для конкретного пользователя, сохранить JSON-вывод в файле *.json."
   ]
  },
  {
   "cell_type": "code",
   "execution_count": 49,
   "id": "6707e368",
   "metadata": {},
   "outputs": [],
   "source": [
    "import requests\n",
    "from pprint import pprint\n",
    "import json"
   ]
  },
  {
   "cell_type": "code",
   "execution_count": 2,
   "id": "710e10f4",
   "metadata": {},
   "outputs": [],
   "source": [
    "api_token = ''"
   ]
  },
  {
   "cell_type": "code",
   "execution_count": 3,
   "id": "c0fe8642",
   "metadata": {},
   "outputs": [
    {
     "name": "stdout",
     "output_type": "stream",
     "text": [
      "Enter username: \n"
     ]
    }
   ],
   "source": [
    "username = input('Enter username: ')\n",
    "if username == '' or username == ' ':\n",
    "    username = 'dunklenichts'\n",
    "\n",
    "url = 'https://api.github.com/users/' + username + '/repos'"
   ]
  },
  {
   "cell_type": "code",
   "execution_count": 4,
   "id": "8305c4ad",
   "metadata": {},
   "outputs": [],
   "source": [
    "response = requests.get(url)\n",
    "convert = response.json()\n",
    "# pprint(convert)\n",
    "\n",
    "repos = []\n",
    "\n",
    "try:\n",
    "    for elem in range(len(convert)):\n",
    "        repos.append(convert[elem]['name'])\n",
    "except:\n",
    "    print('User not found')"
   ]
  },
  {
   "cell_type": "code",
   "execution_count": 5,
   "id": "3bf1f644",
   "metadata": {},
   "outputs": [],
   "source": [
    "with open('file.json', 'w', encoding=\"utf-8\") as file:\n",
    "    json.dump(repos, file)"
   ]
  },
  {
   "cell_type": "markdown",
   "id": "3b284d16",
   "metadata": {},
   "source": [
    "2. Выполнить запросы к VK API, пройдя авторизацию. Ответ сервера записать в файл."
   ]
  },
  {
   "cell_type": "code",
   "execution_count": 67,
   "id": "6480da3a",
   "metadata": {},
   "outputs": [
    {
     "name": "stdout",
     "output_type": "stream",
     "text": [
      "Enter your token: d5e56fc1d5e56fc1d5e56fc10dd59ec814dd5e5d5e56fc1b7d5ceee53bfe8999c51c3df\n"
     ]
    }
   ],
   "source": [
    "access_token = input('Enter your token: ')\n",
    "vers = 5.131\n",
    "owner_id = -157645793\n",
    "post_id = 424994\n",
    "\n",
    "vk_response = requests.get('https://api.vk.com/method/wall.getComments',\n",
    "                          params={\n",
    "                              'access_token': access_token,\n",
    "                              'v': vers,\n",
    "                              'owner_id': owner_id,\n",
    "                              'post_id': post_id\n",
    "                          })\n",
    "comment = []\n",
    "data = vk_response.json()['response']['items']\n",
    "# pprint(data)\n",
    "\n",
    "for elem2 in range(len(data)):\n",
    "    comment.append(vk_response.json()['response']['items'][elem2]['text'])\n",
    "    \n",
    "# print(comment)"
   ]
  },
  {
   "cell_type": "code",
   "execution_count": 68,
   "id": "0ee25eec",
   "metadata": {},
   "outputs": [],
   "source": [
    "with open('file2.json', 'w', encoding=\"utf-8\") as file2:\n",
    "    json.dump(comment, file2, ensure_ascii=False)"
   ]
  },
  {
   "cell_type": "markdown",
   "id": "ec956e3e",
   "metadata": {},
   "source": [
    "3. Выполнить запросы к NASA API, пройдя авторизацию. Ответ сервера записать в файл."
   ]
  },
  {
   "cell_type": "code",
   "execution_count": 35,
   "id": "ae3bb3ca",
   "metadata": {},
   "outputs": [],
   "source": [
    "nasa_api = 'Ru1dvbeKasltLcDZpA260WDc7UWnvyf6gv3or6G1'"
   ]
  },
  {
   "cell_type": "code",
   "execution_count": 66,
   "id": "0910253c",
   "metadata": {},
   "outputs": [
    {
     "name": "stdout",
     "output_type": "stream",
     "text": [
      "Enter start date: YYYY-MM-DD \n",
      "Enter end date: YYYY-MM-DD\n",
      "\n",
      "The Radiation Belt Enhancement: \n",
      "['2022-12-24T14:05Z', '2022-12-27T17:05Z']\n"
     ]
    }
   ],
   "source": [
    "start_date = input('Enter start date: YYYY-MM-DD ')\n",
    "end_date = input('Enter end date: YYYY-MM-DD')\n",
    "\n",
    "if start_date == '':\n",
    "    start_date == '2022-12-30'\n",
    "if end_date == '':\n",
    "    end_date == '2023-01-01'\n",
    "\n",
    "nasa_resp = requests.get('https://api.nasa.gov/DONKI/RBE',\n",
    "                        params={\n",
    "                            'api_key': nasa_api,\n",
    "                            'startDate': start_date,\n",
    "                            'endDate': end_date\n",
    "                        })\n",
    "time_arr = []\n",
    "data = nasa_resp.json()\n",
    "for elem3 in range(len(data)):\n",
    "    time_arr.append(nasa_resp.json()[elem3]['eventTime'])\n",
    "\n",
    "print('\\nThe Radiation Belt Enhancement: ')\n",
    "pprint(time_arr)"
   ]
  }
 ],
 "metadata": {
  "kernelspec": {
   "display_name": "Python 3 (ipykernel)",
   "language": "python",
   "name": "python3"
  },
  "language_info": {
   "codemirror_mode": {
    "name": "ipython",
    "version": 3
   },
   "file_extension": ".py",
   "mimetype": "text/x-python",
   "name": "python",
   "nbconvert_exporter": "python",
   "pygments_lexer": "ipython3",
   "version": "3.9.13"
  }
 },
 "nbformat": 4,
 "nbformat_minor": 5
}
