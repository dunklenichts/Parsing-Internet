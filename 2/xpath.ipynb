{
 "cells": [
  {
   "cell_type": "markdown",
   "id": "0ff2a8f2",
   "metadata": {},
   "source": [
    "## Написать приложение и функцию, которые собирают основные новости с сайта на выбор lenta.ru, mail.ru . Для парсинга использовать XPath\n",
    "Структура данных должна содержать:\n",
    "* название источника\n",
    "* наименование новости\n",
    "* ссылку на новость\n",
    "* дата публикации"
   ]
  },
  {
   "cell_type": "code",
   "execution_count": 71,
   "id": "aaafcd38",
   "metadata": {},
   "outputs": [],
   "source": [
    "from pprint import pprint\n",
    "from lxml import html\n",
    "import requests\n",
    "\n",
    "import pandas as pd"
   ]
  },
  {
   "cell_type": "markdown",
   "id": "e54e50d9",
   "metadata": {},
   "source": [
    "### LENTA.RU"
   ]
  },
  {
   "cell_type": "code",
   "execution_count": 196,
   "id": "b78a07a5",
   "metadata": {},
   "outputs": [],
   "source": [
    "url = 'https://lenta.ru/'\n",
    "\n",
    "response = requests.get(url)\n",
    "\n",
    "dom = html.fromstring(response.text)"
   ]
  },
  {
   "cell_type": "code",
   "execution_count": 197,
   "id": "8c4c5596",
   "metadata": {},
   "outputs": [
    {
     "data": {
      "text/plain": [
       "['Медведев оценил обращение США к россиянам словами «предел моральной деградации»',\n",
       " 'Опубликована карта боевых действий на Украине на 5 января',\n",
       " 'Норвегия передала Украине 10 тысяч артиллерийских снарядов',\n",
       " 'Стала известна причина отказа США поставлять Украине танки Abrams',\n",
       " 'Эрдоган анонсировал разговор с Зеленским',\n",
       " 'Россиянам перечислили правила безопасности при использовании бани',\n",
       " 'На Украине снесли памятник писателю Николаю Островскому',\n",
       " 'Российского тренера обвинили в жестоком обращении с гимнастками в Италии',\n",
       " 'Принц Гарри отказался приезжать на коронацию отца',\n",
       " 'Перечислены четыре способа предотвратить старение кожи',\n",
       " '«Макдоналдс» объявил о прекращении работы в Казахстане',\n",
       " 'В ДНР сбили два украинских самолета']"
      ]
     },
     "execution_count": 197,
     "metadata": {},
     "output_type": "execute_result"
    }
   ],
   "source": [
    "article_list = dom.xpath('//div[contains(@class,\"topnews__column\")]/a/div/span/text()')\n",
    "\n",
    "article_list"
   ]
  },
  {
   "cell_type": "code",
   "execution_count": 198,
   "id": "fa455879",
   "metadata": {},
   "outputs": [
    {
     "data": {
      "text/plain": [
       "['/news/2023/01/05/ocenil/',\n",
       " '/news/2023/01/05/mo_5jan/',\n",
       " '/news/2023/01/05/pomosh/',\n",
       " '/news/2023/01/05/abramsi/',\n",
       " '/news/2023/01/05/rozmova/',\n",
       " 'https://moslenta.ru/news/lyudi/ispolzovanii-bani-05-01-2023.htm',\n",
       " '/news/2023/01/05/ostrov/',\n",
       " '/news/2023/01/05/italyviolence/',\n",
       " '/news/2023/01/05/harry_no/',\n",
       " '/news/2023/01/05/youngface/',\n",
       " '/news/2023/01/05/pokamac/',\n",
       " '/news/2023/01/05/samoleti/']"
      ]
     },
     "execution_count": 198,
     "metadata": {},
     "output_type": "execute_result"
    }
   ],
   "source": [
    "link_list = dom.xpath('//div[contains(@class,\"topnews__column\")]/a/@href')\n",
    "\n",
    "link_list"
   ]
  },
  {
   "cell_type": "code",
   "execution_count": 199,
   "id": "428b4675",
   "metadata": {
    "scrolled": true
   },
   "outputs": [
    {
     "data": {
      "text/plain": [
       "['15:16',\n",
       " '15:13',\n",
       " '15:05',\n",
       " '15:01',\n",
       " '14:57',\n",
       " '14:53',\n",
       " '14:51',\n",
       " '14:49',\n",
       " '14:42',\n",
       " '14:36',\n",
       " '14:26',\n",
       " '14:09']"
      ]
     },
     "execution_count": 199,
     "metadata": {},
     "output_type": "execute_result"
    }
   ],
   "source": [
    "date_list = dom.xpath('//div[contains(@class,\"topnews__column\")]/a/div/div/time/text()')\n",
    "date_list"
   ]
  },
  {
   "cell_type": "code",
   "execution_count": 200,
   "id": "9e14bcd6",
   "metadata": {
    "scrolled": true
   },
   "outputs": [
    {
     "data": {
      "text/html": [
       "<div>\n",
       "<style scoped>\n",
       "    .dataframe tbody tr th:only-of-type {\n",
       "        vertical-align: middle;\n",
       "    }\n",
       "\n",
       "    .dataframe tbody tr th {\n",
       "        vertical-align: top;\n",
       "    }\n",
       "\n",
       "    .dataframe thead th {\n",
       "        text-align: right;\n",
       "    }\n",
       "</style>\n",
       "<table border=\"1\" class=\"dataframe\">\n",
       "  <thead>\n",
       "    <tr style=\"text-align: right;\">\n",
       "      <th></th>\n",
       "      <th>article</th>\n",
       "      <th>link</th>\n",
       "      <th>date</th>\n",
       "      <th>source</th>\n",
       "    </tr>\n",
       "  </thead>\n",
       "  <tbody>\n",
       "    <tr>\n",
       "      <th>0</th>\n",
       "      <td>Медведев оценил обращение США к россиянам слов...</td>\n",
       "      <td>/news/2023/01/05/ocenil/</td>\n",
       "      <td>15:16</td>\n",
       "      <td>lenta.ru</td>\n",
       "    </tr>\n",
       "    <tr>\n",
       "      <th>1</th>\n",
       "      <td>Опубликована карта боевых действий на Украине ...</td>\n",
       "      <td>/news/2023/01/05/mo_5jan/</td>\n",
       "      <td>15:13</td>\n",
       "      <td>lenta.ru</td>\n",
       "    </tr>\n",
       "    <tr>\n",
       "      <th>2</th>\n",
       "      <td>Норвегия передала Украине 10 тысяч артиллерийс...</td>\n",
       "      <td>/news/2023/01/05/pomosh/</td>\n",
       "      <td>15:05</td>\n",
       "      <td>lenta.ru</td>\n",
       "    </tr>\n",
       "    <tr>\n",
       "      <th>3</th>\n",
       "      <td>Стала известна причина отказа США поставлять У...</td>\n",
       "      <td>/news/2023/01/05/abramsi/</td>\n",
       "      <td>15:01</td>\n",
       "      <td>lenta.ru</td>\n",
       "    </tr>\n",
       "    <tr>\n",
       "      <th>4</th>\n",
       "      <td>Эрдоган анонсировал разговор с Зеленским</td>\n",
       "      <td>/news/2023/01/05/rozmova/</td>\n",
       "      <td>14:57</td>\n",
       "      <td>lenta.ru</td>\n",
       "    </tr>\n",
       "    <tr>\n",
       "      <th>5</th>\n",
       "      <td>Россиянам перечислили правила безопасности при...</td>\n",
       "      <td>https://moslenta.ru/news/lyudi/ispolzovanii-ba...</td>\n",
       "      <td>14:53</td>\n",
       "      <td>lenta.ru</td>\n",
       "    </tr>\n",
       "    <tr>\n",
       "      <th>6</th>\n",
       "      <td>На Украине снесли памятник писателю Николаю Ос...</td>\n",
       "      <td>/news/2023/01/05/ostrov/</td>\n",
       "      <td>14:51</td>\n",
       "      <td>lenta.ru</td>\n",
       "    </tr>\n",
       "    <tr>\n",
       "      <th>7</th>\n",
       "      <td>Российского тренера обвинили в жестоком обраще...</td>\n",
       "      <td>/news/2023/01/05/italyviolence/</td>\n",
       "      <td>14:49</td>\n",
       "      <td>lenta.ru</td>\n",
       "    </tr>\n",
       "    <tr>\n",
       "      <th>8</th>\n",
       "      <td>Принц Гарри отказался приезжать на коронацию отца</td>\n",
       "      <td>/news/2023/01/05/harry_no/</td>\n",
       "      <td>14:42</td>\n",
       "      <td>lenta.ru</td>\n",
       "    </tr>\n",
       "    <tr>\n",
       "      <th>9</th>\n",
       "      <td>Перечислены четыре способа предотвратить старе...</td>\n",
       "      <td>/news/2023/01/05/youngface/</td>\n",
       "      <td>14:36</td>\n",
       "      <td>lenta.ru</td>\n",
       "    </tr>\n",
       "    <tr>\n",
       "      <th>10</th>\n",
       "      <td>«Макдоналдс» объявил о прекращении работы в Ка...</td>\n",
       "      <td>/news/2023/01/05/pokamac/</td>\n",
       "      <td>14:26</td>\n",
       "      <td>lenta.ru</td>\n",
       "    </tr>\n",
       "    <tr>\n",
       "      <th>11</th>\n",
       "      <td>В ДНР сбили два украинских самолета</td>\n",
       "      <td>/news/2023/01/05/samoleti/</td>\n",
       "      <td>14:09</td>\n",
       "      <td>lenta.ru</td>\n",
       "    </tr>\n",
       "  </tbody>\n",
       "</table>\n",
       "</div>"
      ],
      "text/plain": [
       "                                              article  \\\n",
       "0   Медведев оценил обращение США к россиянам слов...   \n",
       "1   Опубликована карта боевых действий на Украине ...   \n",
       "2   Норвегия передала Украине 10 тысяч артиллерийс...   \n",
       "3   Стала известна причина отказа США поставлять У...   \n",
       "4            Эрдоган анонсировал разговор с Зеленским   \n",
       "5   Россиянам перечислили правила безопасности при...   \n",
       "6   На Украине снесли памятник писателю Николаю Ос...   \n",
       "7   Российского тренера обвинили в жестоком обраще...   \n",
       "8   Принц Гарри отказался приезжать на коронацию отца   \n",
       "9   Перечислены четыре способа предотвратить старе...   \n",
       "10  «Макдоналдс» объявил о прекращении работы в Ка...   \n",
       "11                В ДНР сбили два украинских самолета   \n",
       "\n",
       "                                                 link   date    source  \n",
       "0                            /news/2023/01/05/ocenil/  15:16  lenta.ru  \n",
       "1                           /news/2023/01/05/mo_5jan/  15:13  lenta.ru  \n",
       "2                            /news/2023/01/05/pomosh/  15:05  lenta.ru  \n",
       "3                           /news/2023/01/05/abramsi/  15:01  lenta.ru  \n",
       "4                           /news/2023/01/05/rozmova/  14:57  lenta.ru  \n",
       "5   https://moslenta.ru/news/lyudi/ispolzovanii-ba...  14:53  lenta.ru  \n",
       "6                            /news/2023/01/05/ostrov/  14:51  lenta.ru  \n",
       "7                     /news/2023/01/05/italyviolence/  14:49  lenta.ru  \n",
       "8                          /news/2023/01/05/harry_no/  14:42  lenta.ru  \n",
       "9                         /news/2023/01/05/youngface/  14:36  lenta.ru  \n",
       "10                          /news/2023/01/05/pokamac/  14:26  lenta.ru  \n",
       "11                         /news/2023/01/05/samoleti/  14:09  lenta.ru  "
      ]
     },
     "execution_count": 200,
     "metadata": {},
     "output_type": "execute_result"
    }
   ],
   "source": [
    "df = pd.DataFrame(data=article_list, columns=['article'])\n",
    "df['link'] = pd.DataFrame(link_list)\n",
    "df['date'] = pd.DataFrame(date_list)\n",
    "df['source'] = 'lenta.ru'\n",
    "df"
   ]
  }
 ],
 "metadata": {
  "kernelspec": {
   "display_name": "Python 3 (ipykernel)",
   "language": "python",
   "name": "python3"
  },
  "language_info": {
   "codemirror_mode": {
    "name": "ipython",
    "version": 3
   },
   "file_extension": ".py",
   "mimetype": "text/x-python",
   "name": "python",
   "nbconvert_exporter": "python",
   "pygments_lexer": "ipython3",
   "version": "3.9.13"
  }
 },
 "nbformat": 4,
 "nbformat_minor": 5
}
